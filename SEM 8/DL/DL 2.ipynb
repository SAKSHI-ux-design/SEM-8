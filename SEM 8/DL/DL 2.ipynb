{
 "cells": [
  {
   "cell_type": "code",
   "execution_count": 1,
   "id": "21cde538",
   "metadata": {},
   "outputs": [],
   "source": [
    "from keras.datasets import imdb\n",
    "from keras.models import Sequential\n",
    "from keras.layers import Dense\n",
    "import numpy as np\n",
    "from keras import optimizers\n",
    "from keras import losses\n",
    "from keras import metrics"
   ]
  },
  {
   "cell_type": "code",
   "execution_count": 2,
   "id": "d15ffdde",
   "metadata": {},
   "outputs": [],
   "source": [
    "(train_data,train_label),(test_data,test_label) = imdb.load_data(num_words=10000)"
   ]
  },
  {
   "cell_type": "code",
   "execution_count": 3,
   "id": "d6923c55",
   "metadata": {},
   "outputs": [],
   "source": [
    "def vectorize_sequences(sequences,dimensions = 10000):\n",
    "    results = np.zeros((len(sequences),dimensions))\n",
    "    for i,sequences in enumerate(sequences):\n",
    "        results[i,sequences]=1\n",
    "    return results\n",
    "x_train = vectorize_sequences(train_data)\n",
    "x_test = vectorize_sequences(test_data)"
   ]
  },
  {
   "cell_type": "code",
   "execution_count": 4,
   "id": "9ca6d482",
   "metadata": {},
   "outputs": [],
   "source": [
    "def vectorize_sequences(sequences,dimensions=10000):\n",
    "    results=np.zeros((len(sequences),dimensions))\n",
    "    for i,sequences in enumerate(sequences):\n",
    "        results[i,sequences]=1\n",
    "    return results\n",
    "x_train = vectorize_sequences(train_data)\n",
    "x_test=vectorize_sequences(test_data)"
   ]
  },
  {
   "cell_type": "code",
   "execution_count": 5,
   "id": "7293afef",
   "metadata": {},
   "outputs": [],
   "source": [
    "y_train=np.array(train_label).astype('float32')\n",
    "y_test=np.array(test_label).astype('float32')"
   ]
  },
  {
   "cell_type": "code",
   "execution_count": 6,
   "id": "bfb8cc24",
   "metadata": {},
   "outputs": [],
   "source": [
    "y_train = np.array(train_label).astype('float32')\n",
    "y_test = np.array(test_label).astype('float32')"
   ]
  },
  {
   "cell_type": "code",
   "execution_count": 7,
   "id": "4fe5f405",
   "metadata": {},
   "outputs": [],
   "source": [
    "model = Sequential()\n",
    "model.add(Dense(16,input_shape=(10000, ),activation=\"relu\"))\n",
    "model.add(Dense(16,activation=\"relu\"))\n",
    "model.add(Dense(1,activation = \"sigmoid\"))"
   ]
  },
  {
   "cell_type": "code",
   "execution_count": 8,
   "id": "7633bea2",
   "metadata": {},
   "outputs": [],
   "source": [
    "model.compile(optimizer='adam',loss='mse',metrics=['accuracy'])"
   ]
  },
  {
   "cell_type": "code",
   "execution_count": 9,
   "id": "07c4c450",
   "metadata": {},
   "outputs": [
    {
     "name": "stdout",
     "output_type": "stream",
     "text": [
      "Epoch 1/4\n",
      "49/49 [==============================] - 28s 25ms/step - loss: 0.1582 - accuracy: 0.8192\n",
      "Epoch 2/4\n",
      "49/49 [==============================] - 1s 16ms/step - loss: 0.0731 - accuracy: 0.9133\n",
      "Epoch 3/4\n",
      "49/49 [==============================] - 0s 10ms/step - loss: 0.0521 - accuracy: 0.9400\n",
      "Epoch 4/4\n",
      "49/49 [==============================] - 1s 10ms/step - loss: 0.0411 - accuracy: 0.9547\n"
     ]
    },
    {
     "data": {
      "text/plain": [
       "<keras.callbacks.History at 0x1c655695af0>"
      ]
     },
     "execution_count": 9,
     "metadata": {},
     "output_type": "execute_result"
    }
   ],
   "source": [
    "model.fit(x_train, y_train, epochs = 4, batch_size = 512)\n"
   ]
  },
  {
   "cell_type": "code",
   "execution_count": 10,
   "id": "c329d38f",
   "metadata": {},
   "outputs": [
    {
     "name": "stdout",
     "output_type": "stream",
     "text": [
      "782/782 [==============================] - 13s 3ms/step - loss: 0.0894 - accuracy: 0.8784\n"
     ]
    }
   ],
   "source": [
    "mse_nn,mae_nn=model.evaluate(x_test,y_test)"
   ]
  },
  {
   "cell_type": "code",
   "execution_count": 11,
   "id": "91f50d49",
   "metadata": {},
   "outputs": [
    {
     "name": "stdout",
     "output_type": "stream",
     "text": [
      "Downloading data from https://storage.googleapis.com/tensorflow/tf-keras-datasets/imdb_word_index.json\n",
      "1641221/1641221 [==============================] - 1s 1us/step\n"
     ]
    }
   ],
   "source": [
    "word_index=imdb.get_word_index()"
   ]
  },
  {
   "cell_type": "code",
   "execution_count": 12,
   "id": "cce6d122",
   "metadata": {},
   "outputs": [],
   "source": [
    "def return_token(tid):\n",
    "    for k,v in word_index.items():\n",
    "        if v==tid-3:\n",
    "            return k\n",
    "    return '?'"
   ]
  },
  {
   "cell_type": "code",
   "execution_count": 13,
   "id": "c1ba09fc",
   "metadata": {},
   "outputs": [],
   "source": [
    "def print(id_):\n",
    "    sentence=\" \".join(return_token(i) for i in train_data[id_])\n",
    "    return sentence"
   ]
  },
  {
   "cell_type": "code",
   "execution_count": 14,
   "id": "0cf74186",
   "metadata": {},
   "outputs": [
    {
     "data": {
      "text/plain": [
       "\"? big hair big boobs bad music and a giant safety pin these are the words to best describe this terrible movie i love cheesy horror movies and i've seen hundreds but this had got to be on of the worst ever made the plot is paper thin and ridiculous the acting is an abomination the script is completely laughable the best is the end showdown with the cop and how he worked out who the killer is it's just so damn terribly written the clothes are sickening and funny in equal ? the hair is big lots of boobs ? men wear those cut ? shirts that show off their ? sickening that men actually wore them and the music is just ? trash that plays over and over again in almost every scene there is trashy music boobs and ? taking away bodies and the gym still doesn't close for ? all joking aside this is a truly bad film whose only charm is to look back on the disaster that was the 80's and have a good old laugh at how bad everything was back then\""
      ]
     },
     "execution_count": 14,
     "metadata": {},
     "output_type": "execute_result"
    }
   ],
   "source": [
    "print(1)"
   ]
  }
 ],
 "metadata": {
  "kernelspec": {
   "display_name": "Python 3 (ipykernel)",
   "language": "python",
   "name": "python3"
  },
  "language_info": {
   "codemirror_mode": {
    "name": "ipython",
    "version": 3
   },
   "file_extension": ".py",
   "mimetype": "text/x-python",
   "name": "python",
   "nbconvert_exporter": "python",
   "pygments_lexer": "ipython3",
   "version": "3.9.7"
  }
 },
 "nbformat": 4,
 "nbformat_minor": 5
}
